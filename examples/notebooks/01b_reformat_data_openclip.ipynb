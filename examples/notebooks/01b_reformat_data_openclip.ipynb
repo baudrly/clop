{
  "cells": [
    {
      "cell_type": "code",
      "source": [
        "import pickle\n",
        "import pandas as pd\n",
        "from PIL import Image\n",
        "from sklearn.model_selection import train_test_split\n"
      ],
      "outputs": [],
      "execution_count": 2,
      "metadata": {
        "gather": {
          "logged": 1701422771624
        }
      }
    },
    {
      "cell_type": "code",
      "source": [
        "data = pickle.load(open('../../data/preprocessed.pickle', 'rb'))\n",
        "data[0]"
      ],
      "outputs": [],
      "execution_count": 3,
      "metadata": {
        "jupyter": {
          "source_hidden": false,
          "outputs_hidden": false
        },
        "nteract": {
          "transient": {
            "deleting": false
          }
        },
        "gather": {
          "logged": 1701422672689
        }
      }
    },
    {
      "cell_type": "code",
      "source": [
        "import os\n",
        "DATA_PATH = \"../../open_clip/data\"\n",
        "os.mkdir(DATA_PATH)\n",
        "os.mkdir(f\"{DATA_PATH}/img\")"
      ],
      "outputs": [],
      "execution_count": 7,
      "metadata": {
        "jupyter": {
          "source_hidden": false,
          "outputs_hidden": false
        },
        "nteract": {
          "transient": {
            "deleting": false
          }
        },
        "gather": {
          "logged": 1701416542250
        }
      }
    },
    {
      "cell_type": "code",
      "source": [
        "openclip_data = []\n",
        "for idx, rec in enumerate(data):\n",
        "    im_path = f\"{DATA_PATH}/img/{idx}.png\"\n",
        "    im = Image.fromarray(rec['image'])\n",
        "    if im.mode != 'RGB':\n",
        "        im = im.convert('RGB')\n",
        "    im.save(im_path)\n",
        "    openclip_data.append({'filepath': im_path.removeprefix('../../open_clip/'), 'title': rec['annotation']})\n",
        "\n"
      ],
      "outputs": [],
      "execution_count": 11,
      "metadata": {
        "jupyter": {
          "source_hidden": false,
          "outputs_hidden": false
        },
        "nteract": {
          "transient": {
            "deleting": false
          }
        },
        "gather": {
          "logged": 1701416712620
        }
      }
    },
    {
      "cell_type": "code",
      "source": [
        "\n",
        "df.to_csv('../../open_clip/data/', index=False)"
      ],
      "outputs": [
        {
          "output_type": "execute_result",
          "execution_count": 14,
          "data": {
            "text/plain": "[         filepath                                              title\n 3  data/img/3.png  Homo sapiens acyl-CoA dehydrogenase short chai...\n 4  data/img/4.png  Homo sapiens acyl-CoA dehydrogenase very long ...\n 0  data/img/0.png  Homo sapiens alpha-2-macroglobulin (A2M), tran...\n 2  data/img/2.png  Homo sapiens acyl-CoA dehydrogenase medium cha...,\n          filepath                                            title\n 1  data/img/1.png  Homo sapiens N-acetyltransferase 2 (NAT2), mRNA]"
          },
          "metadata": {}
        }
      ],
      "execution_count": 14,
      "metadata": {
        "jupyter": {
          "source_hidden": false,
          "outputs_hidden": false
        },
        "nteract": {
          "transient": {
            "deleting": false
          }
        },
        "gather": {
          "logged": 1701416812455
        }
      }
    },
    {
      "cell_type": "code",
      "source": [
        "df = pd.DataFrame.from_dict(openclip_data)\n",
        "train, test = train_test_split(df, test_size = 0.1)\n",
        "df.shape"
      ],
      "outputs": [
        {
          "output_type": "execute_result",
          "execution_count": 18,
          "data": {
            "text/plain": "(5, 2)"
          },
          "metadata": {}
        }
      ],
      "execution_count": 18,
      "metadata": {
        "jupyter": {
          "source_hidden": false,
          "outputs_hidden": false
        },
        "nteract": {
          "transient": {
            "deleting": false
          }
        },
        "gather": {
          "logged": 1701416854306
        }
      }
    },
    {
      "cell_type": "code",
      "source": [
        "len(data)"
      ],
      "outputs": [
        {
          "output_type": "execute_result",
          "execution_count": 21,
          "data": {
            "text/plain": "5"
          },
          "metadata": {}
        }
      ],
      "execution_count": 21,
      "metadata": {
        "jupyter": {
          "source_hidden": false,
          "outputs_hidden": false
        },
        "nteract": {
          "transient": {
            "deleting": false
          }
        },
        "gather": {
          "logged": 1701416889957
        }
      }
    }
  ],
  "metadata": {
    "kernelspec": {
      "name": "python38-azureml",
      "language": "python",
      "display_name": "Python 3.8 - AzureML"
    },
    "language_info": {
      "name": "python",
      "version": "3.8.5",
      "mimetype": "text/x-python",
      "codemirror_mode": {
        "name": "ipython",
        "version": 3
      },
      "pygments_lexer": "ipython3",
      "nbconvert_exporter": "python",
      "file_extension": ".py"
    },
    "microsoft": {
      "ms_spell_check": {
        "ms_spell_check_language": "en"
      },
      "host": {
        "AzureML": {
          "notebookHasBeenCompleted": true
        }
      }
    },
    "kernel_info": {
      "name": "python38-azureml"
    },
    "nteract": {
      "version": "nteract-front-end@1.0.0"
    }
  },
  "nbformat": 4,
  "nbformat_minor": 2
}