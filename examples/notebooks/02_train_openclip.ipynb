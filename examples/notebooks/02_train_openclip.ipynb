{
  "cells": [
    {
      "cell_type": "code",
      "source": [
        "!pip install open_clip_torch"
      ],
      "outputs": [
        {
          "output_type": "stream",
          "name": "stdout",
          "text": "Requirement already satisfied: open_clip_torch in /anaconda/envs/azureml_py38/lib/python3.8/site-packages (2.23.0)\nRequirement already satisfied: torchvision in /anaconda/envs/azureml_py38/lib/python3.8/site-packages (from open_clip_torch) (0.9.1)\nRequirement already satisfied: ftfy in /anaconda/envs/azureml_py38/lib/python3.8/site-packages (from open_clip_torch) (6.1.3)\nRequirement already satisfied: protobuf in /anaconda/envs/azureml_py38/lib/python3.8/site-packages (from open_clip_torch) (3.20.3)\nRequirement already satisfied: huggingface-hub in /anaconda/envs/azureml_py38/lib/python3.8/site-packages (from open_clip_torch) (0.14.1)\nRequirement already satisfied: sentencepiece in /anaconda/envs/azureml_py38/lib/python3.8/site-packages (from open_clip_torch) (0.1.99)\nRequirement already satisfied: torch>=1.9.0 in /anaconda/envs/azureml_py38/lib/python3.8/site-packages (from open_clip_torch) (1.12.0)\nRequirement already satisfied: tqdm in /anaconda/envs/azureml_py38/lib/python3.8/site-packages (from open_clip_torch) (4.65.0)\nRequirement already satisfied: regex in /anaconda/envs/azureml_py38/lib/python3.8/site-packages (from open_clip_torch) (2023.5.5)\nRequirement already satisfied: timm in /anaconda/envs/azureml_py38/lib/python3.8/site-packages (from open_clip_torch) (0.9.12)\nRequirement already satisfied: numpy in /anaconda/envs/azureml_py38/lib/python3.8/site-packages (from torchvision->open_clip_torch) (1.21.6)\nRequirement already satisfied: pillow>=4.1.1 in /anaconda/envs/azureml_py38/lib/python3.8/site-packages (from torchvision->open_clip_torch) (9.2.0)\nRequirement already satisfied: wcwidth<0.3.0,>=0.2.12 in /anaconda/envs/azureml_py38/lib/python3.8/site-packages (from ftfy->open_clip_torch) (0.2.12)\nRequirement already satisfied: packaging>=20.9 in /anaconda/envs/azureml_py38/lib/python3.8/site-packages (from huggingface-hub->open_clip_torch) (23.0)\nRequirement already satisfied: pyyaml>=5.1 in /anaconda/envs/azureml_py38/lib/python3.8/site-packages (from huggingface-hub->open_clip_torch) (6.0)\nRequirement already satisfied: typing-extensions>=3.7.4.3 in /anaconda/envs/azureml_py38/lib/python3.8/site-packages (from huggingface-hub->open_clip_torch) (4.6.0)\nRequirement already satisfied: filelock in /anaconda/envs/azureml_py38/lib/python3.8/site-packages (from huggingface-hub->open_clip_torch) (3.12.0)\nRequirement already satisfied: fsspec in /anaconda/envs/azureml_py38/lib/python3.8/site-packages (from huggingface-hub->open_clip_torch) (2023.5.0)\nRequirement already satisfied: requests in /anaconda/envs/azureml_py38/lib/python3.8/site-packages (from huggingface-hub->open_clip_torch) (2.31.0)\nRequirement already satisfied: safetensors in /anaconda/envs/azureml_py38/lib/python3.8/site-packages (from timm->open_clip_torch) (0.4.1)\nRequirement already satisfied: urllib3<3,>=1.21.1 in /anaconda/envs/azureml_py38/lib/python3.8/site-packages (from requests->huggingface-hub->open_clip_torch) (1.26.16)\nRequirement already satisfied: certifi>=2017.4.17 in /anaconda/envs/azureml_py38/lib/python3.8/site-packages (from requests->huggingface-hub->open_clip_torch) (2022.9.24)\nRequirement already satisfied: idna<4,>=2.5 in /anaconda/envs/azureml_py38/lib/python3.8/site-packages (from requests->huggingface-hub->open_clip_torch) (3.4)\nRequirement already satisfied: charset-normalizer<4,>=2 in /anaconda/envs/azureml_py38/lib/python3.8/site-packages (from requests->huggingface-hub->open_clip_torch) (3.1.0)\n"
        }
      ],
      "execution_count": 1,
      "metadata": {}
    },
    {
      "cell_type": "code",
      "source": [
        "import open_clip\n",
        "import torch"
      ],
      "outputs": [
        {
          "output_type": "error",
          "ename": "ModuleNotFoundError",
          "evalue": "No module named 'open_clip'",
          "traceback": [
            "\u001b[0;31m---------------------------------------------------------------------------\u001b[0m",
            "\u001b[0;31mModuleNotFoundError\u001b[0m                       Traceback (most recent call last)",
            "Cell \u001b[0;32mIn[4], line 1\u001b[0m\n\u001b[0;32m----> 1\u001b[0m \u001b[38;5;28;01mimport\u001b[39;00m \u001b[38;5;21;01mopen_clip\u001b[39;00m\n\u001b[1;32m      2\u001b[0m \u001b[38;5;28;01mimport\u001b[39;00m \u001b[38;5;21;01mtorch\u001b[39;00m\n",
            "\u001b[0;31mModuleNotFoundError\u001b[0m: No module named 'open_clip'"
          ]
        }
      ],
      "execution_count": 4,
      "metadata": {
        "jupyter": {
          "source_hidden": false,
          "outputs_hidden": false
        },
        "nteract": {
          "transient": {
            "deleting": false
          }
        },
        "gather": {
          "logged": 1701415449628
        }
      }
    },
    {
      "cell_type": "code",
      "source": [
        "python -m training.main \\\n",
        "    --save-frequency 1 \\\n",
        "    --zeroshot-frequency 1 \\\n",
        "    --report-to tensorboard \\\n",
        "    --train-data=\"/path/to/train_data.csv\"  \\\n",
        "    --val-data=\"/path/to/validation_data.csv\"  \\\n",
        "    --csv-img-key filepath \\\n",
        "    --csv-caption-key title \\\n",
        "    --imagenet-val=/path/to/imagenet/root/val/ \\\n",
        "    --warmup 10000 \\\n",
        "    --batch-size=128 \\\n",
        "    --lr=1e-3 \\\n",
        "    --wd=0.1 \\\n",
        "    --epochs=30 \\\n",
        "    --workers=8 \\\n",
        "    --model RN50"
      ],
      "outputs": [],
      "execution_count": null,
      "metadata": {
        "jupyter": {
          "source_hidden": false,
          "outputs_hidden": false
        },
        "nteract": {
          "transient": {
            "deleting": false
          }
        }
      }
    }
  ],
  "metadata": {
    "kernelspec": {
      "name": "python38-azureml",
      "language": "python",
      "display_name": "Python 3.8 - AzureML"
    },
    "language_info": {
      "name": "python",
      "version": "3.8.5",
      "mimetype": "text/x-python",
      "codemirror_mode": {
        "name": "ipython",
        "version": 3
      },
      "pygments_lexer": "ipython3",
      "nbconvert_exporter": "python",
      "file_extension": ".py"
    },
    "microsoft": {
      "ms_spell_check": {
        "ms_spell_check_language": "en"
      }
    },
    "kernel_info": {
      "name": "python38-azureml"
    },
    "nteract": {
      "version": "nteract-front-end@1.0.0"
    }
  },
  "nbformat": 4,
  "nbformat_minor": 2
}