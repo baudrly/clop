{
  "cells": [
    {
      "cell_type": "code",
      "source": [
        "import pickle\n",
        "\n",
        "import numpy as np\n",
        "import pandas as pd\n",
        "from scipy.ndimage import zoom\n",
        "CACHE_KMER_COORDS = {}\n",
        "\n",
        "def fcgr(seq: str, k: int=8):\n",
        "    letter_to_num = {\n",
        "        'A': 0, 'C': 1, 'G': 2, 'T': 3,\n",
        "    }\n",
        "\n",
        "    letter_to_x = {\n",
        "        'A': 0, 'C': 1, 'G': 0, 'T': 1,\n",
        "    }\n",
        "\n",
        "    letter_to_y = {\n",
        "        'A': 0, 'C': 0, 'G': 1, 'T': 1\n",
        "    }\n",
        "\n",
        "    IMGSIZE = 2 ** k\n",
        "    img = np.zeros((IMGSIZE, IMGSIZE))\n",
        "\n",
        "    substrs = [seq[i:i+k] for i in range(len(seq)-k+1)]\n",
        "\n",
        "    for substr in substrs:\n",
        "        x = 0\n",
        "        y = 0\n",
        "        try:\n",
        "            x, y = CACHE_KMER_COORDS[substr]\n",
        "            img[int(x), int(y)] += 1\n",
        "        except KeyError:\n",
        "            for i, s in enumerate(substr):\n",
        "                x = x + letter_to_x[s] * IMGSIZE/(2 ** (i+1))\n",
        "                y = y + letter_to_y[s] * IMGSIZE / (2 ** (i+1))\n",
        "            img[int(y), int(x)] += 1\n",
        "            CACHE_KMER_COORDS[substr] = (x, y)\n",
        "\n",
        "    return img\n",
        "\n"
      ],
      "outputs": [],
      "execution_count": 2,
      "metadata": {
        "gather": {
          "logged": 1701421727537
        }
      }
    },
    {
      "cell_type": "code",
      "source": [
        "\n",
        "from tqdm import tqdm\n",
        "TARGET_WIDTH = 224\n",
        "KMER_LEN = 6\n",
        "df = pd.read_csv('../../data/sequences_annotations.tsv').sample(n=50000)\n",
        "# Exclude (few) sequences with gaps or ambiguous bases\n",
        "df = df.loc[df.sequence.str.contains('^[ACTG]+$')]\n",
        "anns = df.annotation.tolist()\n",
        "seqs = df.sequence.tolist()\n",
        "\n",
        "\n",
        "# convert sequences to frequency chaos game representation\n",
        "imgs = []\n",
        "for seq in tqdm(seqs):\n",
        "    imgs.append(fcgr(seq, KMER_LEN))\n",
        "\n",
        "# Images need to be 224 x 224 for CLIP -> zooming to target res\n",
        "zoomed = [zoom(img, TARGET_WIDTH / 2**KMER_LEN) for img in imgs]\n",
        "\n",
        "preprocessed = [\n",
        "    {\n",
        "        'annotation': record[0],\n",
        "        'sequence': record[1],\n",
        "        'image': record[2],\n",
        "    }\n",
        "    for record in zip(anns, seqs, zoomed)\n",
        "]\n",
        "with open('../../data/preprocessed.pickle', 'wb') as f:\n",
        "    # Pickle the 'data' dictionary using the highest protocol available.\n",
        "    pickle.dump(preprocessed, f, pickle.HIGHEST_PROTOCOL)"
      ],
      "outputs": [
        {
          "output_type": "stream",
          "name": "stderr",
          "text": "100%|██████████| 49998/49998 [03:00<00:00, 276.59it/s]\n"
        }
      ],
      "execution_count": 3,
      "metadata": {
        "jupyter": {
          "source_hidden": false,
          "outputs_hidden": false
        },
        "nteract": {
          "transient": {
            "deleting": false
          }
        },
        "gather": {
          "logged": 1701422423551
        }
      }
    },
    {
      "cell_type": "code",
      "source": [
        "test = pickle.load(open('../../data/preprocessed.pickle', 'rb'))"
      ],
      "outputs": [
        {
          "output_type": "error",
          "ename": "KeyboardInterrupt",
          "evalue": "",
          "traceback": [
            "\u001b[0;31m---------------------------------------------------------------------------\u001b[0m",
            "\u001b[0;31mKeyboardInterrupt\u001b[0m                         Traceback (most recent call last)",
            "Cell \u001b[0;32mIn[4], line 1\u001b[0m\n\u001b[0;32m----> 1\u001b[0m test \u001b[38;5;241m=\u001b[39m \u001b[43mpickle\u001b[49m\u001b[38;5;241;43m.\u001b[39;49m\u001b[43mload\u001b[49m\u001b[43m(\u001b[49m\u001b[38;5;28;43mopen\u001b[39;49m\u001b[43m(\u001b[49m\u001b[38;5;124;43m'\u001b[39;49m\u001b[38;5;124;43m../../data/preprocessed.pickle\u001b[39;49m\u001b[38;5;124;43m'\u001b[39;49m\u001b[43m,\u001b[49m\u001b[43m \u001b[49m\u001b[38;5;124;43m'\u001b[39;49m\u001b[38;5;124;43mrb\u001b[39;49m\u001b[38;5;124;43m'\u001b[39;49m\u001b[43m)\u001b[49m\u001b[43m)\u001b[49m\n",
            "File \u001b[0;32m/anaconda/envs/azureml_py38/lib/python3.8/site-packages/numpy/core/numeric.py:1854\u001b[0m, in \u001b[0;36m_frombuffer\u001b[0;34m(buf, dtype, shape, order)\u001b[0m\n\u001b[1;32m   1846\u001b[0m     \u001b[38;5;28;01mreturn\u001b[39;00m function(\u001b[38;5;241m*\u001b[39margs, \u001b[38;5;241m*\u001b[39m\u001b[38;5;241m*\u001b[39mkwargs)\n\u001b[1;32m   1849\u001b[0m _fromfunction_with_like \u001b[38;5;241m=\u001b[39m array_function_dispatch(\n\u001b[1;32m   1850\u001b[0m     _fromfunction_dispatcher\n\u001b[1;32m   1851\u001b[0m )(fromfunction)\n\u001b[0;32m-> 1854\u001b[0m \u001b[38;5;28;01mdef\u001b[39;00m \u001b[38;5;21m_frombuffer\u001b[39m(buf, dtype, shape, order):\n\u001b[1;32m   1855\u001b[0m     \u001b[38;5;28;01mreturn\u001b[39;00m frombuffer(buf, dtype\u001b[38;5;241m=\u001b[39mdtype)\u001b[38;5;241m.\u001b[39mreshape(shape, order\u001b[38;5;241m=\u001b[39morder)\n\u001b[1;32m   1858\u001b[0m \u001b[38;5;129m@set_module\u001b[39m(\u001b[38;5;124m'\u001b[39m\u001b[38;5;124mnumpy\u001b[39m\u001b[38;5;124m'\u001b[39m)\n\u001b[1;32m   1859\u001b[0m \u001b[38;5;28;01mdef\u001b[39;00m \u001b[38;5;21misscalar\u001b[39m(element):\n",
            "\u001b[0;31mKeyboardInterrupt\u001b[0m: "
          ]
        }
      ],
      "execution_count": 4,
      "metadata": {
        "jupyter": {
          "source_hidden": false,
          "outputs_hidden": false
        },
        "nteract": {
          "transient": {
            "deleting": false
          }
        },
        "gather": {
          "logged": 1701422573687
        }
      }
    },
    {
      "cell_type": "code",
      "source": [
        "import matplotlib.pyplot as plt\n",
        "plt.imshow(preprocessed[1]['image'])"
      ],
      "outputs": [],
      "execution_count": 5,
      "metadata": {
        "jupyter": {
          "source_hidden": false,
          "outputs_hidden": false
        },
        "nteract": {
          "transient": {
            "deleting": false
          }
        },
        "gather": {
          "logged": 1701422575220
        }
      }
    },
    {
      "cell_type": "code",
      "source": [
        "len(test)"
      ],
      "outputs": [
        {
          "output_type": "execute_result",
          "execution_count": 7,
          "data": {
            "text/plain": "5"
          },
          "metadata": {}
        }
      ],
      "execution_count": 7,
      "metadata": {
        "jupyter": {
          "source_hidden": false,
          "outputs_hidden": false
        },
        "nteract": {
          "transient": {
            "deleting": false
          }
        },
        "gather": {
          "logged": 1701416984192
        }
      }
    }
  ],
  "metadata": {
    "kernelspec": {
      "name": "python310-sdkv2",
      "language": "python",
      "display_name": "Python 3.10 - SDK v2"
    },
    "language_info": {
      "name": "python",
      "version": "3.10.11",
      "mimetype": "text/x-python",
      "codemirror_mode": {
        "name": "ipython",
        "version": 3
      },
      "pygments_lexer": "ipython3",
      "nbconvert_exporter": "python",
      "file_extension": ".py"
    },
    "microsoft": {
      "ms_spell_check": {
        "ms_spell_check_language": "en"
      },
      "host": {
        "AzureML": {
          "notebookHasBeenCompleted": true
        }
      }
    },
    "kernel_info": {
      "name": "python310-sdkv2"
    },
    "nteract": {
      "version": "nteract-front-end@1.0.0"
    }
  },
  "nbformat": 4,
  "nbformat_minor": 2
}